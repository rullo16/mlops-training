{
 "cells": [
  {
   "cell_type": "code",
   "execution_count": 1,
   "id": "d7a88ad3",
   "metadata": {},
   "outputs": [],
   "source": [
    "import pandas as pd\n",
    "import pickle\n",
    "import seaborn as sns\n",
    "import matplotlib.pyplot as plt\n",
    "from sklearn.feature_extraction import DictVectorizer\n",
    "from sklearn.linear_model import LinearRegression\n",
    "from sklearn.linear_model import Lasso\n",
    "from sklearn.linear_model import Ridge\n",
    "import mlflow\n",
    "from sklearn.metrics import root_mean_squared_error\n",
    "import os\n",
    "import requests"
   ]
  },
  {
   "cell_type": "markdown",
   "id": "0816a31a",
   "metadata": {},
   "source": [
    "Q2. Download and preprocess the data\n",
    "\n",
    "We'll use the Green Taxi Trip Records dataset to predict the duration of each trip.\n",
    "\n",
    "Download the data for January, February and March 2023 in parquet format from here.\n",
    "\n",
    "Use the script preprocess_data.py located in the folder homework to preprocess the data.\n",
    "\n",
    "The script will:\n",
    "\n",
    "    load the data from the folder <TAXI_DATA_FOLDER> (the folder where you have downloaded the data),\n",
    "    fit a DictVectorizer on the training set (January 2023 data),\n",
    "    save the preprocessed datasets and the DictVectorizer to disk.\n",
    "\n",
    "Your task is to download the datasets and then execute this command:\n",
    "\n",
    "python preprocess_data.py --raw_data_path <TAXI_DATA_FOLDER> --dest_path ./output\n",
    "\n",
    "Tip: go to 02-experiment-tracking/homework/ folder before executing the command and change the value of <TAXI_DATA_FOLDER> to the location where you saved the data.\n",
    "\n",
    "How many files were saved to OUTPUT_FOLDER?"
   ]
  },
  {
   "cell_type": "code",
   "execution_count": 2,
   "id": "6c5936bf",
   "metadata": {},
   "outputs": [
    {
     "name": "stdout",
     "output_type": "stream",
     "text": [
      "File saved\n",
      "File saved\n",
      "File saved\n"
     ]
    }
   ],
   "source": [
    "urls = [\"https://d37ci6vzurychx.cloudfront.net/trip-data/green_tripdata_2023-01.parquet\",\"https://d37ci6vzurychx.cloudfront.net/trip-data/green_tripdata_2023-02.parquet\",\"https://d37ci6vzurychx.cloudfront.net/trip-data/green_tripdata_2023-03.parquet\"]\n",
    "folder = \"taxi_dataset\"\n",
    "\n",
    "os.makedirs(folder, exist_ok=True)\n",
    "\n",
    "for url in urls:\n",
    "    filename = url.split(\"/\")[-1]\n",
    "    output_path = os.path.join(folder, filename)\n",
    "\n",
    "    response = requests.get(url)\n",
    "    if response.status_code == 200:\n",
    "        with open(output_path, \"wb\") as f:\n",
    "            f.write(response.content)\n",
    "        print(f\"File saved\")\n",
    "    else:\n",
    "        print(f\"Failed to download file. Status code: {response.status_code}\")"
   ]
  },
  {
   "cell_type": "code",
   "execution_count": 3,
   "id": "34e86acf",
   "metadata": {},
   "outputs": [],
   "source": [
    "!python preprocess_data.py --raw_data_path ./taxi_dataset --dest_path ./output"
   ]
  },
  {
   "cell_type": "markdown",
   "id": "73aa26f4",
   "metadata": {},
   "source": [
    "Q3. Train a model with autolog\n",
    "\n",
    "We will train a RandomForestRegressor (from Scikit-Learn) on the taxi dataset.\n",
    "\n",
    "We have prepared the training script train.py for this exercise, which can be also found in the folder homework.\n",
    "\n",
    "The script will:\n",
    "\n",
    "    load the datasets produced by the previous step,\n",
    "    train the model on the training set,\n",
    "    calculate the RMSE score on the validation set.\n",
    "\n",
    "Your task is to modify the script to enable autologging with MLflow, execute the script and then launch the MLflow UI to check that the experiment run was properly tracked.\n",
    "\n",
    "Tip 1: don't forget to wrap the training code with a with mlflow.start_run(): statement as we showed in the videos.\n",
    "\n",
    "Tip 2: don't modify the hyperparameters of the model to make sure that the training will finish quickly."
   ]
  },
  {
   "cell_type": "code",
   "execution_count": 4,
   "id": "ea85c8ad",
   "metadata": {},
   "outputs": [
    {
     "name": "stdout",
     "output_type": "stream",
     "text": [
      "2025/07/30 11:47:22 INFO mlflow.tracking.fluent: Experiment with name 'nyc-taxi-rf' does not exist. Creating a new experiment.\n",
      "2025/07/30 11:47:22 WARNING mlflow.utils.autologging_utils: MLflow sklearn autologging is known to be compatible with 1.3.0 <= scikit-learn <= 1.7.0, but the installed version is 1.7.1. If you encounter errors during autologging, try upgrading / downgrading scikit-learn to a compatible version, or try upgrading MLflow.\n"
     ]
    }
   ],
   "source": [
    "!python train.py"
   ]
  },
  {
   "cell_type": "markdown",
   "id": "0a55082f",
   "metadata": {},
   "source": [
    "Q4. Launch the tracking server locally\n",
    "\n",
    "Now we want to manage the entire lifecycle of our ML model. In this step, you'll need to launch a tracking server. This way we will also have access to the model registry.\n",
    "\n",
    "Your task is to:\n",
    "\n",
    "    launch the tracking server on your local machine,\n",
    "    select a SQLite db for the backend store and a folder called artifacts for the artifacts store.\n",
    "\n",
    "You should keep the tracking server running to work on the next two exercises that use the server."
   ]
  },
  {
   "cell_type": "code",
   "execution_count": 5,
   "id": "d304235a",
   "metadata": {},
   "outputs": [],
   "source": [
    "mlflow.set_tracking_uri(\"sqlite::///mlflow.db\")"
   ]
  },
  {
   "cell_type": "markdown",
   "id": "5c86150f",
   "metadata": {},
   "source": [
    "Q5. Tune model hyperparameters\n",
    "\n",
    "Now let's try to reduce the validation error by tuning the hyperparameters of the RandomForestRegressor using hyperopt. We have prepared the script hpo.py for this exercise.\n",
    "\n",
    "Your task is to modify the script hpo.py and make sure that the validation RMSE is logged to the tracking server for each run of the hyperparameter optimization (you will need to add a few lines of code to the objective function) and run the script without passing any parameters.\n",
    "\n",
    "After that, open UI and explore the runs from the experiment called random-forest-hyperopt to answer the question below.\n",
    "\n",
    "Note: Don't use autologging for this exercise.\n",
    "\n",
    "The idea is to just log the information that you need to answer the question below, including:\n",
    "\n",
    "    the list of hyperparameters that are passed to the objective function during the optimization,\n",
    "    the RMSE obtained on the validation set (February 2023 data)."
   ]
  },
  {
   "cell_type": "code",
   "execution_count": 6,
   "id": "6e9a733e",
   "metadata": {},
   "outputs": [
    {
     "name": "stdout",
     "output_type": "stream",
     "text": [
      "2025/07/30 11:59:35 INFO mlflow.tracking.fluent: Experiment with name 'random-forest-hyperopt' does not exist. Creating a new experiment.\n",
      "🏃 View run caring-shrike-323 at: http://127.0.0.1:5000/#/experiments/1/runs/19c6c7725d714fbd92b7c248126bdb8a\n",
      "\n",
      "🧪 View experiment at: http://127.0.0.1:5000/#/experiments/1                    \n",
      "\n",
      "🏃 View run sneaky-ape-475 at: http://127.0.0.1:5000/#/experiments/1/runs/383fbf98a3d141daa2a792a239dea033\n",
      "\n",
      "🧪 View experiment at: http://127.0.0.1:5000/#/experiments/1                    \n",
      "\n",
      "🏃 View run orderly-colt-261 at: http://127.0.0.1:5000/#/experiments/1/runs/5c1b866cbcfe445e99108fa1e1e88f40\n",
      "\n",
      "🧪 View experiment at: http://127.0.0.1:5000/#/experiments/1                    \n",
      "\n",
      "🏃 View run peaceful-mink-316 at: http://127.0.0.1:5000/#/experiments/1/runs/6c41478d705c44da94a500e23e1d48e4\n",
      "\n",
      "🧪 View experiment at: http://127.0.0.1:5000/#/experiments/1                    \n",
      "\n",
      "🏃 View run monumental-conch-669 at: http://127.0.0.1:5000/#/experiments/1/runs/d6df971c9c2d4de9b7d8596ec66d013b\n",
      "\n",
      "🧪 View experiment at: http://127.0.0.1:5000/#/experiments/1                    \n",
      "\n",
      "🏃 View run silent-swan-217 at: http://127.0.0.1:5000/#/experiments/1/runs/6d683f283570428cb74781528f082f37\n",
      "\n",
      "🧪 View experiment at: http://127.0.0.1:5000/#/experiments/1                    \n",
      "\n",
      "🏃 View run polite-midge-758 at: http://127.0.0.1:5000/#/experiments/1/runs/08b13809ad574615b992c22d60cfe7a1\n",
      "\n",
      "🧪 View experiment at: http://127.0.0.1:5000/#/experiments/1                    \n",
      "\n",
      "🏃 View run rumbling-yak-967 at: http://127.0.0.1:5000/#/experiments/1/runs/01382d12e85146c783fd8890c5d8bf30\n",
      "\n",
      "🧪 View experiment at: http://127.0.0.1:5000/#/experiments/1                    \n",
      "\n",
      "🏃 View run smiling-hawk-769 at: http://127.0.0.1:5000/#/experiments/1/runs/5e7600a730e44ec2ae455512b6e4b2f4\n",
      "\n",
      "🧪 View experiment at: http://127.0.0.1:5000/#/experiments/1                    \n",
      "\n",
      "🏃 View run useful-hawk-644 at: http://127.0.0.1:5000/#/experiments/1/runs/14ebe7c009df4e8387c33f562febf571\n",
      "\n",
      "🧪 View experiment at: http://127.0.0.1:5000/#/experiments/1                    \n",
      "\n",
      "🏃 View run flawless-mouse-782 at: http://127.0.0.1:5000/#/experiments/1/runs/1c1b85bdd682432a902676c754182fcb\n",
      "\n",
      "🧪 View experiment at: http://127.0.0.1:5000/#/experiments/1                    \n",
      "\n",
      "🏃 View run amusing-donkey-883 at: http://127.0.0.1:5000/#/experiments/1/runs/12a74eebf6e64a99ad2d7e67296513ab\n",
      "\n",
      "🧪 View experiment at: http://127.0.0.1:5000/#/experiments/1                    \n",
      "\n",
      "🏃 View run bouncy-koi-504 at: http://127.0.0.1:5000/#/experiments/1/runs/8873af10dbba4d8bacb035c0f423a4de\n",
      "\n",
      "🧪 View experiment at: http://127.0.0.1:5000/#/experiments/1                    \n",
      "\n",
      "🏃 View run wistful-slug-19 at: http://127.0.0.1:5000/#/experiments/1/runs/2301ff68aa964b85aa5bf4057e5955ae\n",
      "\n",
      "🧪 View experiment at: http://127.0.0.1:5000/#/experiments/1                    \n",
      "\n",
      "🏃 View run placid-finch-787 at: http://127.0.0.1:5000/#/experiments/1/runs/777990a89d3c4d78b55729c5f0dfbc86\n",
      "\n",
      "🧪 View experiment at: http://127.0.0.1:5000/#/experiments/1                    \n",
      "\n",
      "100%|██████████| 15/15 [01:45<00:00,  7.05s/trial, best loss: 5.335419588556921]\n"
     ]
    }
   ],
   "source": [
    "!python hpo.py"
   ]
  },
  {
   "cell_type": "markdown",
   "id": "813c51df",
   "metadata": {},
   "source": [
    "Q6. Promote the best model to the model registry\n",
    "\n",
    "The results from the hyperparameter optimization are quite good. So, we can assume that we are ready to test some of these models in production. In this exercise, you'll promote the best model to the model registry. We have prepared a script called register_model.py, which will check the results from the previous step and select the top 5 runs. After that, it will calculate the RMSE of those models on the test set (March 2023 data) and save the results to a new experiment called random-forest-best-models.\n",
    "\n",
    "Your task is to update the script register_model.py so that it selects the model with the lowest RMSE on the test set and registers it to the model registry.\n",
    "\n",
    "Tip 1: you can use the method search_runs from the MlflowClient to get the model with the lowest RMSE,\n",
    "\n",
    "Tip 2: to register the model you can use the method mlflow.register_model and you will need to pass the right model_uri in the form of a string that looks like this: \"runs:/<RUN_ID>/model\", and the name of the model (make sure to choose a good one!)."
   ]
  },
  {
   "cell_type": "code",
   "execution_count": 10,
   "id": "6b6521a4",
   "metadata": {},
   "outputs": [
    {
     "name": "stdout",
     "output_type": "stream",
     "text": [
      "2025/07/30 13:05:42 WARNING mlflow.utils.autologging_utils: MLflow sklearn autologging is known to be compatible with 1.3.0 <= scikit-learn <= 1.7.0, but the installed version is 1.7.1. If you encounter errors during autologging, try upgrading / downgrading scikit-learn to a compatible version, or try upgrading MLflow.\n",
      "🏃 View run judicious-hawk-889 at: http://127.0.0.1:5000/#/experiments/2/runs/4760df97bbc64e5499168695ce7c99f3\n",
      "🧪 View experiment at: http://127.0.0.1:5000/#/experiments/2\n",
      "🏃 View run resilient-snake-933 at: http://127.0.0.1:5000/#/experiments/2/runs/3e8ea02cec29428689742eecf55aa8b0\n",
      "🧪 View experiment at: http://127.0.0.1:5000/#/experiments/2\n",
      "🏃 View run righteous-ape-311 at: http://127.0.0.1:5000/#/experiments/2/runs/1369e3fe43ed4a609c4296cf2d117a1c\n",
      "🧪 View experiment at: http://127.0.0.1:5000/#/experiments/2\n",
      "🏃 View run resilient-duck-858 at: http://127.0.0.1:5000/#/experiments/2/runs/2c70c6d7e6334af7aa77ea3309a5219c\n",
      "🧪 View experiment at: http://127.0.0.1:5000/#/experiments/2\n",
      "🏃 View run delightful-bat-312 at: http://127.0.0.1:5000/#/experiments/2/runs/17e77af71f694bfcbb7f5bad12134929\n",
      "🧪 View experiment at: http://127.0.0.1:5000/#/experiments/2\n",
      "[<Run: data=<RunData: metrics={'test_rmse': 5.567408012462019,\n",
      " 'training_mean_absolute_error': 3.23365652419934,\n",
      " 'training_mean_squared_error': 24.785660360279667,\n",
      " 'training_r2_score': 0.6956122194293165,\n",
      " 'training_root_mean_squared_error': 4.978519896543516,\n",
      " 'training_score': 0.6956122194293165,\n",
      " 'val_rmse': 5.335419588556921}, params={'bootstrap': 'True',\n",
      " 'ccp_alpha': '0.0',\n",
      " 'criterion': 'squared_error',\n",
      " 'max_depth': '19',\n",
      " 'max_features': '1.0',\n",
      " 'max_leaf_nodes': 'None',\n",
      " 'max_samples': 'None',\n",
      " 'min_impurity_decrease': '0.0',\n",
      " 'min_samples_leaf': '2',\n",
      " 'min_samples_split': '2',\n",
      " 'min_weight_fraction_leaf': '0.0',\n",
      " 'monotonic_cst': 'None',\n",
      " 'n_estimators': '11',\n",
      " 'n_jobs': 'None',\n",
      " 'oob_score': 'False',\n",
      " 'random_state': '42',\n",
      " 'verbose': '0',\n",
      " 'warm_start': 'False'}, tags={'estimator_class': 'sklearn.ensemble._forest.RandomForestRegressor',\n",
      " 'estimator_name': 'RandomForestRegressor',\n",
      " 'mlflow.runName': 'judicious-hawk-889',\n",
      " 'mlflow.source.git.commit': '990a77b67e2c7f61dbbf15150ffaaeb0b7aad525',\n",
      " 'mlflow.source.name': 'register_model.py',\n",
      " 'mlflow.source.type': 'LOCAL',\n",
      " 'mlflow.user': 'ubuntu'}>, info=<RunInfo: artifact_uri='/home/ubuntu/mlops-training/artifacts/2/4760df97bbc64e5499168695ce7c99f3/artifacts', end_time=1753880760114, experiment_id='2', lifecycle_stage='active', run_id='4760df97bbc64e5499168695ce7c99f3', run_name='judicious-hawk-889', start_time=1753880743040, status='FINISHED', user_id='ubuntu'>, inputs=<RunInputs: dataset_inputs=[<DatasetInput: dataset=<Dataset: digest='acc5c667', name='dataset', profile=('{\"features_shape\": [65946, 5702], \"features_size\": 376024092, '\n",
      " '\"features_nbytes\": 3008192736, \"targets_shape\": [65946], \"targets_size\": '\n",
      " '65946, \"targets_nbytes\": 527568}'), schema=('{\"mlflow_tensorspec\": {\"features\": \"[{\\\\\"type\\\\\": \\\\\"tensor\\\\\", '\n",
      " '\\\\\"tensor-spec\\\\\": {\\\\\"dtype\\\\\": \\\\\"float64\\\\\", \\\\\"shape\\\\\": [-1, 5702]}}]\", '\n",
      " '\"targets\": \"[{\\\\\"type\\\\\": \\\\\"tensor\\\\\", \\\\\"tensor-spec\\\\\": {\\\\\"dtype\\\\\": '\n",
      " '\\\\\"float64\\\\\", \\\\\"shape\\\\\": [-1]}}]\"}}'), source=('{\"tags\": {\"mlflow.user\": \"ubuntu\", \"mlflow.source.name\": '\n",
      " '\"register_model.py\", \"mlflow.source.type\": \"LOCAL\", '\n",
      " '\"mlflow.source.git.commit\": \"990a77b67e2c7f61dbbf15150ffaaeb0b7aad525\"}}'), source_type='code'>, tags=[<InputTag: key='mlflow.data.context', value='train'>]>,\n",
      " <DatasetInput: dataset=<Dataset: digest='7edda543', name='dataset', profile=('{\"features_shape\": [62574, 5702], \"features_size\": 356796948, '\n",
      " '\"features_nbytes\": 2854375584}'), schema=('{\"mlflow_tensorspec\": {\"features\": \"[{\\\\\"type\\\\\": \\\\\"tensor\\\\\", '\n",
      " '\\\\\"tensor-spec\\\\\": {\\\\\"dtype\\\\\": \\\\\"float64\\\\\", \\\\\"shape\\\\\": [-1, 5702]}}]\", '\n",
      " '\"targets\": null}}'), source=('{\"tags\": {\"mlflow.user\": \"ubuntu\", \"mlflow.source.name\": '\n",
      " '\"register_model.py\", \"mlflow.source.type\": \"LOCAL\", '\n",
      " '\"mlflow.source.git.commit\": \"990a77b67e2c7f61dbbf15150ffaaeb0b7aad525\"}}'), source_type='code'>, tags=[<InputTag: key='mlflow.data.context', value='eval'>]>,\n",
      " <DatasetInput: dataset=<Dataset: digest='5a2feb47', name='dataset', profile=('{\"features_shape\": [69392, 5702], \"features_size\": 395673184, '\n",
      " '\"features_nbytes\": 3165385472}'), schema=('{\"mlflow_tensorspec\": {\"features\": \"[{\\\\\"type\\\\\": \\\\\"tensor\\\\\", '\n",
      " '\\\\\"tensor-spec\\\\\": {\\\\\"dtype\\\\\": \\\\\"float64\\\\\", \\\\\"shape\\\\\": [-1, 5702]}}]\", '\n",
      " '\"targets\": null}}'), source=('{\"tags\": {\"mlflow.user\": \"ubuntu\", \"mlflow.source.name\": '\n",
      " '\"register_model.py\", \"mlflow.source.type\": \"LOCAL\", '\n",
      " '\"mlflow.source.git.commit\": \"990a77b67e2c7f61dbbf15150ffaaeb0b7aad525\"}}'), source_type='code'>, tags=[<InputTag: key='mlflow.data.context', value='eval'>]>], model_inputs=[]>, outputs=<RunOutputs: model_outputs=[]>>]\n"
     ]
    }
   ],
   "source": [
    "!python register_model.py"
   ]
  },
  {
   "cell_type": "code",
   "execution_count": null,
   "id": "308d7dbc",
   "metadata": {},
   "outputs": [],
   "source": []
  }
 ],
 "metadata": {
  "kernelspec": {
   "display_name": "mlops-training",
   "language": "python",
   "name": "python3"
  },
  "language_info": {
   "codemirror_mode": {
    "name": "ipython",
    "version": 3
   },
   "file_extension": ".py",
   "mimetype": "text/x-python",
   "name": "python",
   "nbconvert_exporter": "python",
   "pygments_lexer": "ipython3",
   "version": "3.13.5"
  }
 },
 "nbformat": 4,
 "nbformat_minor": 5
}
