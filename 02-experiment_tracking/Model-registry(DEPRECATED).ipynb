{
 "cells": [
  {
   "cell_type": "code",
   "execution_count": 1,
   "id": "d9609207",
   "metadata": {},
   "outputs": [
    {
     "name": "stderr",
     "output_type": "stream",
     "text": [
      "2025/07/30 08:23:03 INFO mlflow.store.db.utils: Creating initial MLflow database tables...\n",
      "2025/07/30 08:23:03 INFO mlflow.store.db.utils: Updating database tables\n",
      "INFO  [alembic.runtime.migration] Context impl SQLiteImpl.\n",
      "INFO  [alembic.runtime.migration] Will assume non-transactional DDL.\n",
      "INFO  [alembic.runtime.migration] Context impl SQLiteImpl.\n",
      "INFO  [alembic.runtime.migration] Will assume non-transactional DDL.\n"
     ]
    }
   ],
   "source": [
    "from mlflow.tracking import MlflowClient\n",
    "\n",
    "MLFLOW_TRACKING_URI = \"sqlite:///mlflow.db\"\n",
    "\n",
    "client = MlflowClient(tracking_uri=MLFLOW_TRACKING_URI)"
   ]
  },
  {
   "cell_type": "code",
   "execution_count": 2,
   "id": "e3e259b2",
   "metadata": {},
   "outputs": [
    {
     "data": {
      "text/plain": [
       "[<Experiment: artifact_location='/home/ubuntu/mlops-training/02-experiment_tracking/mlruns/3', creation_time=1753859961092, experiment_id='3', last_update_time=1753859961092, lifecycle_stage='active', name='model-registry-experiment', tags={}>,\n",
       " <Experiment: artifact_location='/home/ubuntu/mlops-training/02-experiment_tracking/mlruns/2', creation_time=1753780599458, experiment_id='2', last_update_time=1753780599458, lifecycle_stage='active', name='nyc-taxi-experiment', tags={}>,\n",
       " <Experiment: artifact_location='/home/ubuntu/mlops-training/02-experiment_tracking/mlruns/0', creation_time=1753780499798, experiment_id='0', last_update_time=1753780499798, lifecycle_stage='active', name='Default', tags={}>]"
      ]
     },
     "execution_count": 2,
     "metadata": {},
     "output_type": "execute_result"
    }
   ],
   "source": [
    "client.search_experiments()"
   ]
  },
  {
   "cell_type": "code",
   "execution_count": 4,
   "id": "5646a8c6",
   "metadata": {},
   "outputs": [],
   "source": [
    "# client.create_experiment(name=\"model-registry-experiment\")"
   ]
  },
  {
   "cell_type": "code",
   "execution_count": 5,
   "id": "d83fd5e1",
   "metadata": {},
   "outputs": [],
   "source": [
    "from mlflow.entities import ViewType\n",
    "\n",
    "runs = client.search_runs(experiment_ids='2', filter_string=\"\",run_view_type=ViewType.ACTIVE_ONLY, max_results=5, order_by=[\"metrics.rmse ASC\"])"
   ]
  },
  {
   "cell_type": "code",
   "execution_count": 6,
   "id": "f0a7c0bd",
   "metadata": {},
   "outputs": [
    {
     "name": "stdout",
     "output_type": "stream",
     "text": [
      "run id: 42184479263240dba64062e77943d5a9, rmse: 6.3604\n",
      "run id: 7bcff21cc67d4cab99d8aac3eec13d8f, rmse: 6.3828\n",
      "run id: 4c4cdb679a9946319fbd2635e7a3e601, rmse: 6.5853\n",
      "run id: cdbb1ce52f9a4720a63d4f97a9eb9c2a, rmse: 11.1673\n",
      "run id: 558c656fb0c54b239e04fd9b583551e7, rmse: 11.1673\n"
     ]
    }
   ],
   "source": [
    "for run in runs:\n",
    "    print(f\"run id: {run.info.run_id}, rmse: {run.data.metrics['rmse']:.4f}\")"
   ]
  },
  {
   "cell_type": "code",
   "execution_count": 7,
   "id": "2d6ed3be",
   "metadata": {},
   "outputs": [],
   "source": [
    "import mlflow\n",
    "\n",
    "mlflow.set_tracking_uri(MLFLOW_TRACKING_URI)"
   ]
  },
  {
   "cell_type": "code",
   "execution_count": 11,
   "id": "0cd4bfa2",
   "metadata": {},
   "outputs": [],
   "source": [
    "run_id = \"7cd5acfe20ae42dcab48c693f55ea00b\"\n",
    "name = f\"runs:/{run_id}/model\"\n",
    "\n",
    "# mlflow.register_model(model_uri=name, name=\"try-model\")"
   ]
  },
  {
   "cell_type": "code",
   "execution_count": 8,
   "id": "93da2aa0",
   "metadata": {},
   "outputs": [
    {
     "name": "stderr",
     "output_type": "stream",
     "text": [
      "2025/07/30 08:23:25 INFO mlflow.store.db.utils: Creating initial MLflow database tables...\n",
      "2025/07/30 08:23:25 INFO mlflow.store.db.utils: Updating database tables\n",
      "INFO  [alembic.runtime.migration] Context impl SQLiteImpl.\n",
      "INFO  [alembic.runtime.migration] Will assume non-transactional DDL.\n"
     ]
    },
    {
     "data": {
      "text/plain": [
       "[<RegisteredModel: aliases={}, creation_timestamp=1753859636602, deployment_job_id=None, deployment_job_state=None, description='', last_updated_timestamp=1753863518068, latest_versions=[<ModelVersion: aliases=[], creation_timestamp=1753859636878, current_stage='None', deployment_job_state=None, description='', last_updated_timestamp=1753859636878, metrics=None, model_id=None, name='try-model', params=None, run_id='', run_link='', source='/home/ubuntu/mlops-training/02-experiment_tracking/mlruns/2/models/m-7defaa2f02234ee88debaeaf77233b3d/artifacts', status='READY', status_message=None, tags={}, user_id=None, version=1>,\n",
       "  <ModelVersion: aliases=[], creation_timestamp=1753863294380, current_stage='Staging', deployment_job_state=None, description=None, last_updated_timestamp=1753863518068, metrics=None, model_id=None, name='try-model', params=None, run_id='7cd5acfe20ae42dcab48c693f55ea00b', run_link=None, source='models:/m-7defaa2f02234ee88debaeaf77233b3d', status='READY', status_message=None, tags={}, user_id=None, version=2>], name='try-model', tags={}>]"
      ]
     },
     "execution_count": 8,
     "metadata": {},
     "output_type": "execute_result"
    }
   ],
   "source": [
    "client.search_registered_models()"
   ]
  },
  {
   "cell_type": "code",
   "execution_count": 9,
   "id": "9e93c2ec",
   "metadata": {},
   "outputs": [
    {
     "name": "stdout",
     "output_type": "stream",
     "text": [
      "1, stage: None\n",
      "2, stage: Staging\n"
     ]
    },
    {
     "name": "stderr",
     "output_type": "stream",
     "text": [
      "/tmp/ipykernel_17044/2107327220.py:2: FutureWarning: ``mlflow.tracking.client.MlflowClient.get_latest_versions`` is deprecated since 2.9.0. Model registry stages will be removed in a future major release. To learn more about the deprecation of model registry stages, see our migration guide here: https://mlflow.org/docs/latest/model-registry.html#migrating-from-stages\n",
      "  latest_versions = client.get_latest_versions(name=model_name)\n"
     ]
    }
   ],
   "source": [
    "model_name = \"try-model\"\n",
    "latest_versions = client.get_latest_versions(name=model_name)\n",
    "\n",
    "for version in latest_versions:\n",
    "    print(f\"{version.version}, stage: {version.current_stage}\")"
   ]
  },
  {
   "cell_type": "code",
   "execution_count": null,
   "id": "6af025cc",
   "metadata": {},
   "outputs": [
    {
     "name": "stderr",
     "output_type": "stream",
     "text": [
      "/tmp/ipykernel_4038/2459217647.py:1: FutureWarning: ``mlflow.tracking.client.MlflowClient.transition_model_version_stage`` is deprecated since 2.9.0. Model registry stages will be removed in a future major release. To learn more about the deprecation of model registry stages, see our migration guide here: https://mlflow.org/docs/latest/model-registry.html#migrating-from-stages\n",
      "  client.transition_model_version_stage(\n"
     ]
    },
    {
     "data": {
      "text/plain": [
       "<ModelVersion: aliases=[], creation_timestamp=1753863294380, current_stage='Staging', deployment_job_state=None, description=None, last_updated_timestamp=1753863518068, metrics=None, model_id=None, name='try-model', params=None, run_id='7cd5acfe20ae42dcab48c693f55ea00b', run_link=None, source='models:/m-7defaa2f02234ee88debaeaf77233b3d', status='READY', status_message=None, tags={}, user_id=None, version=2>"
      ]
     },
     "execution_count": 21,
     "metadata": {},
     "output_type": "execute_result"
    }
   ],
   "source": [
    "client.transition_model_version_stage(\n",
    "    name = model_name,\n",
    "    version=2,\n",
    "    stage=\"Staging\",\n",
    "    archive_existing_versions=False\n",
    ")"
   ]
  },
  {
   "cell_type": "code",
   "execution_count": 13,
   "id": "793c3192",
   "metadata": {},
   "outputs": [],
   "source": [
    "# client.download_artifacts(run_id=run_id, path='preprocessor', dst_path='.')"
   ]
  },
  {
   "cell_type": "code",
   "execution_count": null,
   "id": "7c440d5a",
   "metadata": {},
   "outputs": [],
   "source": []
  }
 ],
 "metadata": {
  "kernelspec": {
   "display_name": "mlops-training",
   "language": "python",
   "name": "python3"
  },
  "language_info": {
   "codemirror_mode": {
    "name": "ipython",
    "version": 3
   },
   "file_extension": ".py",
   "mimetype": "text/x-python",
   "name": "python",
   "nbconvert_exporter": "python",
   "pygments_lexer": "ipython3",
   "version": "3.13.5"
  }
 },
 "nbformat": 4,
 "nbformat_minor": 5
}
